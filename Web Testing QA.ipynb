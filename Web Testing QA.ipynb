{
 "cells": [
  {
   "cell_type": "markdown",
   "id": "925e2779",
   "metadata": {},
   "source": [
    "### Food App \n",
    "\n",
    "As a quality manager, you were planning to introduce automated test for future sprints, a food, ordering web application to improve the speeds of feedback cycles. \n",
    "\n",
    "Given below are some requirements related to the existing test, suite, which requirements can be fully covered using automated Tess select all that applies \n",
    "\n",
    "1. check if all attributes and HTML pages have descriptions that are relevant to the images. \n",
    "2. Determine the usability of the website for people ordering food\n",
    "3. Identify and establish more test cases that are not in the test sweet yet while exploring the food ordering\n",
    "4. Determine if all existing test cases work correctly after a new module, such as for handling coupons is added\n",
    "5. Check that the food application allows at least 100 users sessions for ordering and payments within an hour. \n",
    "\n",
    "(4/5)\n",
    "\n",
    "### Selenium installation \n",
    "\n",
    "After development team has made a Web application using a programming language your task is to make browser-based regression test using the same programming languages as selenium select only the subs needed to set up selenium on a new machine which only has an operating system and the run time for the targeted programming language \n",
    "\n",
    "choose the correct answers\n",
    "\n",
    "1. Download selenium libraries for the targeted programming language\n",
    "3.  install an HTTP server.\n",
    "4. Install a browser for which there is a Web driver\n",
    "5. Install selenium plug-ins for a browser\n",
    "6. Download Web driver binaries for a browser\n",
    "7. Download selenium IDE\n",
    "\n",
    "( 1/3/5 )\n",
    "\n",
    "### Question description \n",
    "\n",
    "considered a screenshot of the webpage provided here - https://www.testdome.com/files/resources/19201/5/q3.png\n",
    "\n",
    "Select all parts of the webpage that contain issues like wrong text formatting missing a page, element or similar\n",
    "\n",
    "Select all acceptable answers\n",
    "\n",
    "1. Question name.\n",
    "2. Description\n",
    "3. Tags\n",
    "4. Question info\n",
    "5. Code box\n",
    "6. Score distribution\n",
    "7. Code input\n",
    "\n",
    "(2/3/5/7)\n",
    "\n",
    "\n",
    "\n",
    "\n",
    "\n",
    "\n",
    "\n",
    "\n",
    "\n",
    "\n",
    "\n"
   ]
  },
  {
   "cell_type": "code",
   "execution_count": null,
   "id": "1eab6b94",
   "metadata": {},
   "outputs": [],
   "source": []
  }
 ],
 "metadata": {
  "kernelspec": {
   "display_name": "Python 3 (ipykernel)",
   "language": "python",
   "name": "python3"
  },
  "language_info": {
   "codemirror_mode": {
    "name": "ipython",
    "version": 3
   },
   "file_extension": ".py",
   "mimetype": "text/x-python",
   "name": "python",
   "nbconvert_exporter": "python",
   "pygments_lexer": "ipython3",
   "version": "3.10.9"
  }
 },
 "nbformat": 4,
 "nbformat_minor": 5
}
