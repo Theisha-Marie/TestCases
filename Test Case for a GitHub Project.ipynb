{
 "cells": [
  {
   "cell_type": "markdown",
   "id": "20ef583a",
   "metadata": {},
   "source": [
    "### Writing test case for a GitHub project - to verify the functionality and ensure that the project works as expected. \n",
    "\n",
    "**Test Case Title:** Verify Repository Creation\n",
    "\n",
    "**Test Case ID:** GH_TC001\n",
    "\n",
    "**Test Objective:** To verify that a user can create a new repository on GitHub.\n",
    "\n",
    "**Preconditions:**\n",
    "- You have a valid GitHub account.\n",
    "- You are logged in to your GitHub account.\n",
    "\n",
    "**Test Steps:**\n",
    "\n",
    "1. Go to the GitHub website (https://github.com).\n",
    "\n",
    "2. Log in to your GitHub account if you are not already logged in.\n",
    "\n",
    "3. Click the '+' sign in the upper-right corner of the page.\n",
    "\n",
    "4. Select 'New repository' from the dropdown menu.\n",
    "\n",
    "5. Enter a unique repository name in the 'Repository name' field.\n",
    "\n",
    "6. Optionally, provide a description in the 'Description' field.\n",
    "\n",
    "7. Choose the visibility of the repository (public or private) by selecting the appropriate radio button.\n",
    "\n",
    "8. Select 'Initialize this repository with a README' if you want to create an initial README file for your repository.\n",
    "\n",
    "9. Choose a license for your repository from the 'Add a license' dropdown (optional).\n",
    "\n",
    "10. Click the 'Create repository' button.\n",
    "\n",
    "**Expected Results:**\n",
    "\n",
    "- After clicking 'Create repository,' the system should create the new repository with the provided details.\n",
    "- You should be redirected to the repository's main page.\n",
    "\n",
    "**Postconditions:**\n",
    "- A new repository with the specified name should now exist in your GitHub account.\n",
    "\n",
    "**Pass/Fail Criteria:**\n",
    "- The test case passes if the repository is successfully created and you are redirected to the repository's main page.\n",
    "- The test case fails if any of the steps fail to execute as expected.\n",
    "\n",
    "This is a simple example of a test case for creating a GitHub repository. "
   ]
  },
  {
   "cell_type": "code",
   "execution_count": null,
   "id": "76ef4f41",
   "metadata": {},
   "outputs": [],
   "source": []
  }
 ],
 "metadata": {
  "kernelspec": {
   "display_name": "Python 3 (ipykernel)",
   "language": "python",
   "name": "python3"
  },
  "language_info": {
   "codemirror_mode": {
    "name": "ipython",
    "version": 3
   },
   "file_extension": ".py",
   "mimetype": "text/x-python",
   "name": "python",
   "nbconvert_exporter": "python",
   "pygments_lexer": "ipython3",
   "version": "3.10.9"
  }
 },
 "nbformat": 4,
 "nbformat_minor": 5
}
